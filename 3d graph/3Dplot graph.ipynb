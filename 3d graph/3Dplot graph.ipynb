{
 "cells": [
  {
   "cell_type": "code",
   "execution_count": 7,
   "id": "a1c423b6",
   "metadata": {},
   "outputs": [
    {
     "data": {
      "text/plain": [
       "'3.5.1'"
      ]
     },
     "execution_count": 7,
     "metadata": {},
     "output_type": "execute_result"
    }
   ],
   "source": [
    "import os\n",
    "import matplotlib\n",
    "import numpy as np\n",
    "import matplotlib.pyplot as plt\n",
    "import pickle\n",
    "import seaborn as sns\n",
    "matplotlib.__version__"
   ]
  },
  {
   "cell_type": "code",
   "execution_count": 211,
   "id": "0c278dc8",
   "metadata": {},
   "outputs": [
    {
     "name": "stderr",
     "output_type": "stream",
     "text": [
      "C:\\Users\\hwan7749\\AppData\\Local\\Temp/ipykernel_19084/761860133.py:2: MatplotlibDeprecationWarning: Calling gca() with keyword arguments was deprecated in Matplotlib 3.4. Starting two minor releases later, gca() will take no keyword arguments. The gca() function should only be used to get the current axes, or if no axes exist, create new axes with default keyword arguments. To create a new axes with non-default arguments, use plt.axes() or plt.subplot().\n",
      "  ax = fig.gca(projection='3d')\n"
     ]
    },
    {
     "data": {
      "image/png": "[encoded data removed]",
      "text/plain": [
       "<Figure size 432x288 with 1 Axes>"
      ]
     },
     "metadata": {
      "needs_background": "light"
     },
     "output_type": "display_data"
    }
   ],
   "source": [
    "fig = plt.figure()\n",
    "ax = fig.gca(projection='3d')\n",
    "\n",
    "plt.show()"
   ]
  },
  {
   "cell_type": "code",
   "execution_count": 212,
   "id": "773552fd",
   "metadata": {},
   "outputs": [],
   "source": [
    "file = open('SD_2021.12.23_17.08.59_000_4ms_amp0.log', 'r')"
   ]
  },
  {
   "cell_type": "code",
   "execution_count": 213,
   "id": "cf030294",
   "metadata": {},
   "outputs": [],
   "source": [
    "lines = file.read().splitlines()\n",
    "file.close()"
   ]
  },
  {
   "cell_type": "code",
   "execution_count": 214,
   "id": "120f11b3",
   "metadata": {},
   "outputs": [],
   "source": [
    "data=[]\n",
    "for line in lines:\n",
    "    if not line:\n",
    "        continue\n",
    "        \n",
    "    columns = [col.strip() for col in line.split('\\t') if col]\n",
    "    data.append(columns)"
   ]
  },
  {
   "cell_type": "code",
   "execution_count": 215,
   "id": "e7356c0e",
   "metadata": {},
   "outputs": [],
   "source": [
    "lower_threshold = 500\n",
    "upper_threshold = 30000\n",
    "n=[]\n",
    "for i in range(len(np_arr)):\n",
    "    for j in range(len(np_arr[j])):\n",
    "        if int(data[i][j]) > upper_threshold :\n",
    "            data[i][j] = 0"
   ]
  },
  {
   "cell_type": "code",
   "execution_count": 216,
   "id": "93eb1c2d",
   "metadata": {},
   "outputs": [
    {
     "name": "stdout",
     "output_type": "stream",
     "text": [
      "[['00036' '00013' '00048' ... '00015' '00028' '00000']\n",
      " ['00014' '00018' '00025' ... '00017' '00029' '00000']\n",
      " ['00011' '00019' '00031' ... '00011' '00024' '00000']\n",
      " ...\n",
      " ['00499' '00723' '00493' ... '00084' '00314' '00000']\n",
      " ['00537' '00199' '00472' ... '00758' '00281' '00000']\n",
      " ['0' '0' '0' ... '0' '0' '00000']]\n"
     ]
    }
   ],
   "source": [
    "np_arr = np.array(data)\n",
    "print(np_arr)"
   ]
  },
  {
   "cell_type": "code",
   "execution_count": 217,
   "id": "1e678e6d",
   "metadata": {},
   "outputs": [],
   "source": [
    "indexofMax = []\n",
    "max = 0\n",
    "flag = 0\n",
    "for i in range(len(np_arr[i])):\n",
    "    for j in range(len(np_arr)):\n",
    "        if (max < int(np_arr[j][i])):\n",
    "            max = int(np_arr[j][i])\n",
    "            flag = j\n",
    "    indexofMax.append(flag)\n",
    "    max = 0"
   ]
  },
  {
   "cell_type": "code",
   "execution_count": 218,
   "id": "1f7fcba2",
   "metadata": {},
   "outputs": [
    {
     "data": {
      "text/plain": [
       "[62, 61, 61, 61, 61, 61, 61, 61, 60, 59, 58, 57, 56, 55, 54]"
      ]
     },
     "execution_count": 218,
     "metadata": {},
     "output_type": "execute_result"
    }
   ],
   "source": [
    "indexofMax[:15]"
   ]
  },
  {
   "cell_type": "code",
   "execution_count": 219,
   "id": "8d6f3bbe",
   "metadata": {},
   "outputs": [],
   "source": [
    "fileH = open('SD_2021.12.23_17.08.59_000_4ms_phaseH.log', 'r') # horizontal\n",
    "fileV = open('SD_2021.12.23_17.08.59_000_4ms_phasew.log', 'r') # vertical"
   ]
  },
  {
   "cell_type": "code",
   "execution_count": 220,
   "id": "b3b4c4ee",
   "metadata": {},
   "outputs": [],
   "source": [
    "linesH = fileH.read().splitlines()\n",
    "linesV = fileV.read().splitlines()\n",
    "\n",
    "fileH.close()\n",
    "fileV.close()"
   ]
  },
  {
   "cell_type": "code",
   "execution_count": 221,
   "id": "1ff1730e",
   "metadata": {},
   "outputs": [],
   "source": [
    "dataPhaseH=[]\n",
    "dataPhaseV=[]\n",
    "for line in linesH:\n",
    "    if not line:\n",
    "        continue\n",
    "    columns = [col.strip() for col in line.split('\\t') if col]\n",
    "    dataPhaseH.append(columns)\n",
    "\n",
    "for line in linesV:\n",
    "    if not line:\n",
    "        continue\n",
    "    columns = [col.strip() for col in line.split('\\t') if col]\n",
    "    dataPhaseV.append(columns)"
   ]
  },
  {
   "cell_type": "code",
   "execution_count": 222,
   "id": "0d68e475",
   "metadata": {},
   "outputs": [
    {
     "name": "stdout",
     "output_type": "stream",
     "text": [
      "[['-84.26' '-166.14' '-101.72' ... '-79.89' '23.75' '0.00']\n",
      " ['174.36' '-60.71' '-93.62' ... '-38.72' '-30.67' '0.00']\n",
      " ['-75.96' '87.88' '-97.22' ... '-101.92' '-10.38' '0.00']\n",
      " ...\n",
      " ['-30.25' '-165.44' '-179.49' ... '73.63' '47.13' '0.00']\n",
      " ['66.54' '51.31' '46.24' ... '47.56' '-57.77' '0.00']\n",
      " ['160.51' '115.11' '-99.06' ... '61.93' '-40.71' '0.00']]\n",
      "[['48.67' '137.15' '26.59' ... '-8.13' '48.86' '-0.00']\n",
      " ['39.14' '62.22' '29.29' ... '-9.24' '39.48' '-0.00']\n",
      " ['144.46' '156.98' '52.22' ... '45.00' '73.20' '-0.00']\n",
      " ...\n",
      " ['105.65' '144.22' '145.17' ... '48.70' '45.68' '-0.00']\n",
      " ['-4.44' '170.91' '128.48' ... '-144.64' '86.99' '-0.00']\n",
      " ['-171.63' '-51.89' '-21.90' ... '97.90' '65.00' '-0.00']]\n"
     ]
    }
   ],
   "source": [
    "np_phaseH = np.array(dataPhaseH)\n",
    "print(np_phaseH)\n",
    "\n",
    "np_phaseV = np.array(dataPhaseV)\n",
    "print(np_phaseV)"
   ]
  },
  {
   "cell_type": "code",
   "execution_count": 223,
   "id": "16d0b891",
   "metadata": {},
   "outputs": [
    {
     "name": "stdout",
     "output_type": "stream",
     "text": [
      "55\n",
      "64\n"
     ]
    }
   ],
   "source": [
    "print(len(np_phase[1]))\n",
    "print(len(np_phase))\n"
   ]
  },
  {
   "cell_type": "code",
   "execution_count": 224,
   "id": "484c3710",
   "metadata": {},
   "outputs": [],
   "source": [
    "time = []\n",
    "phaseH = []\n",
    "phaseV = []\n",
    "\n",
    "for i in range(len(np_phaseH[i])):\n",
    "    time.append(float(i))\n",
    "    phaseH.append(float(np_phaseH[indexofMax[i]][i]))\n",
    "    phaseV.append(float(np_phaseV[indexofMax[i]][i]))"
   ]
  },
  {
   "cell_type": "code",
   "execution_count": 225,
   "id": "f37aed08",
   "metadata": {},
   "outputs": [
    {
     "name": "stdout",
     "output_type": "stream",
     "text": [
      "[0.0, 1.0, 2.0, 3.0, 4.0, 5.0, 6.0, 7.0, 8.0, 9.0]\n",
      "[66.54, -165.44, -179.49, -177.98, -157.37, 155.66, 178.95, 173.87, 145.44, 93.81]\n",
      "[-4.44, 144.22, 145.17, 128.62, 111.21, 127.04, 145.02, 113.21, 100.27, 72.53]\n"
     ]
    }
   ],
   "source": [
    "print(time[:10])\n",
    "print(phaseH[:10])\n",
    "print(phaseV[:10])"
   ]
  },
  {
   "cell_type": "code",
   "execution_count": 261,
   "id": "2268a07c",
   "metadata": {},
   "outputs": [],
   "source": [
    "X = np.array(time[21:])\n",
    "Y = np.array(phaseH[21:])\n",
    "Z = np.array(phaseV[21:])"
   ]
  },
  {
   "cell_type": "code",
   "execution_count": 262,
   "id": "69264a0c",
   "metadata": {
    "scrolled": true
   },
   "outputs": [
    {
     "name": "stdout",
     "output_type": "stream",
     "text": [
      "[21. 22. 23. 24. 25. 26. 27. 28. 29. 30. 31. 32. 33. 34. 35. 36. 37. 38.\n",
      " 39. 40. 41. 42. 43. 44. 45. 46. 47. 48. 49. 50. 51. 52. 53. 54.]\n",
      "[-103.2   -95.05  -93.3   -62.9   -35.44  -54.43  -83.9     7.1    12.74\n",
      "   52.71   25.7    60.95   65.99   54.96   89.15   99.05   97.73  -29.58\n",
      "  111.36  144.16  149.58  149.18  148.72  146.51  175.55 -160.81   37.25\n",
      " -152.69 -152.01 -161.26 -157.24   65.99 -133.15    0.  ]\n",
      "[ 19.95  -8.41  -2.65  -7.81 -10.02  33.51  16.44  75.85  -1.97 111.38\n",
      "  -3.08  -3.54 -15.11  -8.33  -2.59 -17.42 -21.72  12.63 -16.03 -19.96\n",
      " -13.82 -23.73 -20.13 -18.32  -0.5   -7.66  31.58 -13.28 -23.07   1.2\n",
      "  -7.05  57.76 -14.6   -0.  ]\n"
     ]
    }
   ],
   "source": [
    "print(X)\n",
    "print(Y)\n",
    "print(Z)"
   ]
  },
  {
   "cell_type": "code",
   "execution_count": 272,
   "id": "dcf589e8",
   "metadata": {},
   "outputs": [
    {
     "data": {
      "image/png": "[encoded data removed]",
      "text/plain": [
       "<Figure size 432x288 with 1 Axes>"
      ]
     },
     "metadata": {
      "needs_background": "light"
     },
     "output_type": "display_data"
    }
   ],
   "source": [
    "import numpy as np\n",
    "import matplotlib.pyplot as plt\n",
    "from mpl_toolkits.mplot3d import axes3d\n",
    "\n",
    "fig = plt.figure()\n",
    "ax = fig.add_subplot(111, projection='3d')\n",
    "\n",
    "# Plot a 3D surface\n",
    "ax.scatter(xs = Y, ys=X, zs=Z)\n",
    "\n",
    "ax.set_xlabel(\"Horizontal\")\n",
    "\n",
    "ax.set_ylabel(\"time\")\n",
    "\n",
    "ax.set_zlabel(\"Vertical\")\n",
    "\n",
    "plt.show()"
   ]
  },
  {
   "cell_type": "code",
   "execution_count": 258,
   "id": "4dbcf94e",
   "metadata": {},
   "outputs": [
    {
     "ename": "TypeError",
     "evalue": "_linspace_dispatcher() missing 1 required positional argument: 'stop'",
     "output_type": "error",
     "traceback": [
      "\u001b[1;31m---------------------------------------------------------------------------\u001b[0m",
      "\u001b[1;31mTypeError\u001b[0m                                 Traceback (most recent call last)",
      "\u001b[1;32m~\\AppData\\Local\\Temp/ipykernel_19084/2821825958.py\u001b[0m in \u001b[0;36m<module>\u001b[1;34m\u001b[0m\n\u001b[1;32m----> 1\u001b[1;33m \u001b[0mnp\u001b[0m\u001b[1;33m.\u001b[0m\u001b[0mlinspace\u001b[0m\u001b[1;33m(\u001b[0m\u001b[0mphaseH\u001b[0m\u001b[1;33m)\u001b[0m\u001b[1;33m\u001b[0m\u001b[1;33m\u001b[0m\u001b[0m\n\u001b[0m",
      "\u001b[1;32m~\\AppData\\Local\\Programs\\Python\\Python310\\lib\\site-packages\\numpy\\core\\overrides.py\u001b[0m in \u001b[0;36mlinspace\u001b[1;34m(*args, **kwargs)\u001b[0m\n",
      "\u001b[1;31mTypeError\u001b[0m: _linspace_dispatcher() missing 1 required positional argument: 'stop'"
     ]
    }
   ],
   "source": [
    "np.linspace(phaseH)"
   ]
  },
  {
   "cell_type": "code",
   "execution_count": null,
   "id": "46fd20f4",
   "metadata": {},
   "outputs": [],
   "source": []
  }
 ],
 "metadata": {
  "kernelspec": {
   "display_name": "Python 3 (ipykernel)",
   "language": "python",
   "name": "python3"
  },
  "language_info": {
   "codemirror_mode": {
    "name": "ipython",
    "version": 3
   },
   "file_extension": ".py",
   "mimetype": "text/x-python",
   "name": "python",
   "nbconvert_exporter": "python",
   "pygments_lexer": "ipython3",
   "version": "3.10.1"
  }
 },
 "nbformat": 4,
 "nbformat_minor": 5
}
